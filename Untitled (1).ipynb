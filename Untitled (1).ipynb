{
 "cells": [
  {
   "cell_type": "code",
   "execution_count": 1,
   "metadata": {},
   "outputs": [],
   "source": [
    "import pandas as pd\n",
    "import numpy as np\n",
    "import matplotlib.pyplot as plt\n",
    "import seaborn as sns\n",
    "\n",
    "%matplotlib inline"
   ]
  },
  {
   "cell_type": "code",
   "execution_count": 2,
   "metadata": {},
   "outputs": [
    {
     "data": {
      "text/html": [
       "<div>\n",
       "<style scoped>\n",
       "    .dataframe tbody tr th:only-of-type {\n",
       "        vertical-align: middle;\n",
       "    }\n",
       "\n",
       "    .dataframe tbody tr th {\n",
       "        vertical-align: top;\n",
       "    }\n",
       "\n",
       "    .dataframe thead th {\n",
       "        text-align: right;\n",
       "    }\n",
       "</style>\n",
       "<table border=\"1\" class=\"dataframe\">\n",
       "  <thead>\n",
       "    <tr style=\"text-align: right;\">\n",
       "      <th></th>\n",
       "      <th>area_type</th>\n",
       "      <th>availability</th>\n",
       "      <th>location</th>\n",
       "      <th>size</th>\n",
       "      <th>society</th>\n",
       "      <th>total_sqft</th>\n",
       "      <th>bath</th>\n",
       "      <th>balcony</th>\n",
       "      <th>price</th>\n",
       "    </tr>\n",
       "  </thead>\n",
       "  <tbody>\n",
       "    <tr>\n",
       "      <td>0</td>\n",
       "      <td>Super built-up  Area</td>\n",
       "      <td>19-Dec</td>\n",
       "      <td>Electronic City Phase II</td>\n",
       "      <td>2 BHK</td>\n",
       "      <td>Coomee</td>\n",
       "      <td>1056</td>\n",
       "      <td>2.0</td>\n",
       "      <td>1.0</td>\n",
       "      <td>39.07</td>\n",
       "    </tr>\n",
       "    <tr>\n",
       "      <td>1</td>\n",
       "      <td>Plot  Area</td>\n",
       "      <td>Ready To Move</td>\n",
       "      <td>Chikka Tirupathi</td>\n",
       "      <td>4 Bedroom</td>\n",
       "      <td>Theanmp</td>\n",
       "      <td>2600</td>\n",
       "      <td>5.0</td>\n",
       "      <td>3.0</td>\n",
       "      <td>120.00</td>\n",
       "    </tr>\n",
       "    <tr>\n",
       "      <td>2</td>\n",
       "      <td>Built-up  Area</td>\n",
       "      <td>Ready To Move</td>\n",
       "      <td>Uttarahalli</td>\n",
       "      <td>3 BHK</td>\n",
       "      <td>NaN</td>\n",
       "      <td>1440</td>\n",
       "      <td>2.0</td>\n",
       "      <td>3.0</td>\n",
       "      <td>62.00</td>\n",
       "    </tr>\n",
       "    <tr>\n",
       "      <td>3</td>\n",
       "      <td>Super built-up  Area</td>\n",
       "      <td>Ready To Move</td>\n",
       "      <td>Lingadheeranahalli</td>\n",
       "      <td>3 BHK</td>\n",
       "      <td>Soiewre</td>\n",
       "      <td>1521</td>\n",
       "      <td>3.0</td>\n",
       "      <td>1.0</td>\n",
       "      <td>95.00</td>\n",
       "    </tr>\n",
       "    <tr>\n",
       "      <td>4</td>\n",
       "      <td>Super built-up  Area</td>\n",
       "      <td>Ready To Move</td>\n",
       "      <td>Kothanur</td>\n",
       "      <td>2 BHK</td>\n",
       "      <td>NaN</td>\n",
       "      <td>1200</td>\n",
       "      <td>2.0</td>\n",
       "      <td>1.0</td>\n",
       "      <td>51.00</td>\n",
       "    </tr>\n",
       "  </tbody>\n",
       "</table>\n",
       "</div>"
      ],
      "text/plain": [
       "              area_type   availability                  location       size  \\\n",
       "0  Super built-up  Area         19-Dec  Electronic City Phase II      2 BHK   \n",
       "1            Plot  Area  Ready To Move          Chikka Tirupathi  4 Bedroom   \n",
       "2        Built-up  Area  Ready To Move               Uttarahalli      3 BHK   \n",
       "3  Super built-up  Area  Ready To Move        Lingadheeranahalli      3 BHK   \n",
       "4  Super built-up  Area  Ready To Move                  Kothanur      2 BHK   \n",
       "\n",
       "   society total_sqft  bath  balcony   price  \n",
       "0  Coomee        1056   2.0      1.0   39.07  \n",
       "1  Theanmp       2600   5.0      3.0  120.00  \n",
       "2      NaN       1440   2.0      3.0   62.00  \n",
       "3  Soiewre       1521   3.0      1.0   95.00  \n",
       "4      NaN       1200   2.0      1.0   51.00  "
      ]
     },
     "execution_count": 2,
     "metadata": {},
     "output_type": "execute_result"
    }
   ],
   "source": [
    "bhd = pd.read_csv(\"Bengaluru_House_Data.csv\")\n",
    "bhd.head()"
   ]
  },
  {
   "cell_type": "code",
   "execution_count": 3,
   "metadata": {},
   "outputs": [
    {
     "data": {
      "text/plain": [
       "Index(['area_type', 'availability', 'location', 'size', 'society',\n",
       "       'total_sqft', 'bath', 'balcony', 'price'],\n",
       "      dtype='object')"
      ]
     },
     "execution_count": 3,
     "metadata": {},
     "output_type": "execute_result"
    }
   ],
   "source": [
    "bhd.columns"
   ]
  },
  {
   "cell_type": "code",
   "execution_count": 4,
   "metadata": {},
   "outputs": [
    {
     "data": {
      "text/plain": [
       "(13320, 9)"
      ]
     },
     "execution_count": 4,
     "metadata": {},
     "output_type": "execute_result"
    }
   ],
   "source": [
    "bhd.shape"
   ]
  },
  {
   "cell_type": "code",
   "execution_count": 5,
   "metadata": {},
   "outputs": [
    {
     "data": {
      "text/plain": [
       "area_type        object\n",
       "availability     object\n",
       "location         object\n",
       "size             object\n",
       "society          object\n",
       "total_sqft       object\n",
       "bath            float64\n",
       "balcony         float64\n",
       "price           float64\n",
       "dtype: object"
      ]
     },
     "execution_count": 5,
     "metadata": {},
     "output_type": "execute_result"
    }
   ],
   "source": [
    "bhd.dtypes"
   ]
  },
  {
   "cell_type": "code",
   "execution_count": 6,
   "metadata": {},
   "outputs": [
    {
     "data": {
      "text/plain": [
       "area_type          0\n",
       "availability       0\n",
       "location           1\n",
       "size              16\n",
       "society         5502\n",
       "total_sqft         0\n",
       "bath              73\n",
       "balcony          609\n",
       "price              0\n",
       "dtype: int64"
      ]
     },
     "execution_count": 6,
     "metadata": {},
     "output_type": "execute_result"
    }
   ],
   "source": [
    "bhd.isna().sum()"
   ]
  },
  {
   "cell_type": "code",
   "execution_count": 7,
   "metadata": {},
   "outputs": [],
   "source": [
    "bhd = bhd.rename(columns = {'price':'price_lakhs'})"
   ]
  },
  {
   "cell_type": "code",
   "execution_count": 8,
   "metadata": {},
   "outputs": [
    {
     "data": {
      "text/html": [
       "<div>\n",
       "<style scoped>\n",
       "    .dataframe tbody tr th:only-of-type {\n",
       "        vertical-align: middle;\n",
       "    }\n",
       "\n",
       "    .dataframe tbody tr th {\n",
       "        vertical-align: top;\n",
       "    }\n",
       "\n",
       "    .dataframe thead th {\n",
       "        text-align: right;\n",
       "    }\n",
       "</style>\n",
       "<table border=\"1\" class=\"dataframe\">\n",
       "  <thead>\n",
       "    <tr style=\"text-align: right;\">\n",
       "      <th></th>\n",
       "      <th>area_type</th>\n",
       "      <th>availability</th>\n",
       "      <th>location</th>\n",
       "      <th>size</th>\n",
       "      <th>society</th>\n",
       "      <th>total_sqft</th>\n",
       "      <th>bath</th>\n",
       "      <th>balcony</th>\n",
       "      <th>price_lakhs</th>\n",
       "    </tr>\n",
       "  </thead>\n",
       "  <tbody>\n",
       "    <tr>\n",
       "      <td>count</td>\n",
       "      <td>13320</td>\n",
       "      <td>13320</td>\n",
       "      <td>13319</td>\n",
       "      <td>13304</td>\n",
       "      <td>7818</td>\n",
       "      <td>13320</td>\n",
       "      <td>13247.000000</td>\n",
       "      <td>12711.000000</td>\n",
       "      <td>13320.000000</td>\n",
       "    </tr>\n",
       "    <tr>\n",
       "      <td>unique</td>\n",
       "      <td>4</td>\n",
       "      <td>81</td>\n",
       "      <td>1305</td>\n",
       "      <td>31</td>\n",
       "      <td>2688</td>\n",
       "      <td>2117</td>\n",
       "      <td>NaN</td>\n",
       "      <td>NaN</td>\n",
       "      <td>NaN</td>\n",
       "    </tr>\n",
       "    <tr>\n",
       "      <td>top</td>\n",
       "      <td>Super built-up  Area</td>\n",
       "      <td>Ready To Move</td>\n",
       "      <td>Whitefield</td>\n",
       "      <td>2 BHK</td>\n",
       "      <td>GrrvaGr</td>\n",
       "      <td>1200</td>\n",
       "      <td>NaN</td>\n",
       "      <td>NaN</td>\n",
       "      <td>NaN</td>\n",
       "    </tr>\n",
       "    <tr>\n",
       "      <td>freq</td>\n",
       "      <td>8790</td>\n",
       "      <td>10581</td>\n",
       "      <td>540</td>\n",
       "      <td>5199</td>\n",
       "      <td>80</td>\n",
       "      <td>843</td>\n",
       "      <td>NaN</td>\n",
       "      <td>NaN</td>\n",
       "      <td>NaN</td>\n",
       "    </tr>\n",
       "    <tr>\n",
       "      <td>mean</td>\n",
       "      <td>NaN</td>\n",
       "      <td>NaN</td>\n",
       "      <td>NaN</td>\n",
       "      <td>NaN</td>\n",
       "      <td>NaN</td>\n",
       "      <td>NaN</td>\n",
       "      <td>2.692610</td>\n",
       "      <td>1.584376</td>\n",
       "      <td>112.565627</td>\n",
       "    </tr>\n",
       "    <tr>\n",
       "      <td>std</td>\n",
       "      <td>NaN</td>\n",
       "      <td>NaN</td>\n",
       "      <td>NaN</td>\n",
       "      <td>NaN</td>\n",
       "      <td>NaN</td>\n",
       "      <td>NaN</td>\n",
       "      <td>1.341458</td>\n",
       "      <td>0.817263</td>\n",
       "      <td>148.971674</td>\n",
       "    </tr>\n",
       "    <tr>\n",
       "      <td>min</td>\n",
       "      <td>NaN</td>\n",
       "      <td>NaN</td>\n",
       "      <td>NaN</td>\n",
       "      <td>NaN</td>\n",
       "      <td>NaN</td>\n",
       "      <td>NaN</td>\n",
       "      <td>1.000000</td>\n",
       "      <td>0.000000</td>\n",
       "      <td>8.000000</td>\n",
       "    </tr>\n",
       "    <tr>\n",
       "      <td>25%</td>\n",
       "      <td>NaN</td>\n",
       "      <td>NaN</td>\n",
       "      <td>NaN</td>\n",
       "      <td>NaN</td>\n",
       "      <td>NaN</td>\n",
       "      <td>NaN</td>\n",
       "      <td>2.000000</td>\n",
       "      <td>1.000000</td>\n",
       "      <td>50.000000</td>\n",
       "    </tr>\n",
       "    <tr>\n",
       "      <td>50%</td>\n",
       "      <td>NaN</td>\n",
       "      <td>NaN</td>\n",
       "      <td>NaN</td>\n",
       "      <td>NaN</td>\n",
       "      <td>NaN</td>\n",
       "      <td>NaN</td>\n",
       "      <td>2.000000</td>\n",
       "      <td>2.000000</td>\n",
       "      <td>72.000000</td>\n",
       "    </tr>\n",
       "    <tr>\n",
       "      <td>75%</td>\n",
       "      <td>NaN</td>\n",
       "      <td>NaN</td>\n",
       "      <td>NaN</td>\n",
       "      <td>NaN</td>\n",
       "      <td>NaN</td>\n",
       "      <td>NaN</td>\n",
       "      <td>3.000000</td>\n",
       "      <td>2.000000</td>\n",
       "      <td>120.000000</td>\n",
       "    </tr>\n",
       "    <tr>\n",
       "      <td>max</td>\n",
       "      <td>NaN</td>\n",
       "      <td>NaN</td>\n",
       "      <td>NaN</td>\n",
       "      <td>NaN</td>\n",
       "      <td>NaN</td>\n",
       "      <td>NaN</td>\n",
       "      <td>40.000000</td>\n",
       "      <td>3.000000</td>\n",
       "      <td>3600.000000</td>\n",
       "    </tr>\n",
       "  </tbody>\n",
       "</table>\n",
       "</div>"
      ],
      "text/plain": [
       "                   area_type   availability    location   size  society  \\\n",
       "count                  13320          13320       13319  13304     7818   \n",
       "unique                     4             81        1305     31     2688   \n",
       "top     Super built-up  Area  Ready To Move  Whitefield  2 BHK  GrrvaGr   \n",
       "freq                    8790          10581         540   5199       80   \n",
       "mean                     NaN            NaN         NaN    NaN      NaN   \n",
       "std                      NaN            NaN         NaN    NaN      NaN   \n",
       "min                      NaN            NaN         NaN    NaN      NaN   \n",
       "25%                      NaN            NaN         NaN    NaN      NaN   \n",
       "50%                      NaN            NaN         NaN    NaN      NaN   \n",
       "75%                      NaN            NaN         NaN    NaN      NaN   \n",
       "max                      NaN            NaN         NaN    NaN      NaN   \n",
       "\n",
       "       total_sqft          bath       balcony   price_lakhs  \n",
       "count       13320  13247.000000  12711.000000  13320.000000  \n",
       "unique       2117           NaN           NaN           NaN  \n",
       "top          1200           NaN           NaN           NaN  \n",
       "freq          843           NaN           NaN           NaN  \n",
       "mean          NaN      2.692610      1.584376    112.565627  \n",
       "std           NaN      1.341458      0.817263    148.971674  \n",
       "min           NaN      1.000000      0.000000      8.000000  \n",
       "25%           NaN      2.000000      1.000000     50.000000  \n",
       "50%           NaN      2.000000      2.000000     72.000000  \n",
       "75%           NaN      3.000000      2.000000    120.000000  \n",
       "max           NaN     40.000000      3.000000   3600.000000  "
      ]
     },
     "execution_count": 8,
     "metadata": {},
     "output_type": "execute_result"
    }
   ],
   "source": [
    "bhd.describe(include='all')"
   ]
  },
  {
   "cell_type": "code",
   "execution_count": 9,
   "metadata": {},
   "outputs": [
    {
     "data": {
      "image/png": "[encoded data removed]",
      "text/plain": [
       "<Figure size 720x288 with 1 Axes>"
      ]
     },
     "metadata": {
      "needs_background": "light"
     },
     "output_type": "display_data"
    }
   ],
   "source": [
    "plt.figure(figsize=(10,4))\n",
    "sns.countplot(x = bhd.area_type, data = bhd)\n",
    "plt.show()"
   ]
  },
  {
   "cell_type": "code",
   "execution_count": 10,
   "metadata": {},
   "outputs": [
    {
     "data": {
      "text/plain": [
       "Ready To Move    10581\n",
       "18-Dec             307\n",
       "18-May             295\n",
       "18-Apr             271\n",
       "18-Aug             200\n",
       "                 ...  \n",
       "15-Jun               1\n",
       "16-Jan               1\n",
       "16-Nov               1\n",
       "14-Jul               1\n",
       "15-Dec               1\n",
       "Name: availability, Length: 81, dtype: int64"
      ]
     },
     "execution_count": 10,
     "metadata": {},
     "output_type": "execute_result"
    }
   ],
   "source": [
    "bhd.availability.value_counts()"
   ]
  },
  {
   "cell_type": "code",
   "execution_count": 11,
   "metadata": {},
   "outputs": [],
   "source": [
    "def check_avail(l):\n",
    "    if l == 'Ready To Move':\n",
    "        return 1\n",
    "    else: \n",
    "        return 0"
   ]
  },
  {
   "cell_type": "code",
   "execution_count": 12,
   "metadata": {},
   "outputs": [],
   "source": [
    "bhd['availability'] = bhd['availability'].apply(check_avail)"
   ]
  },
  {
   "cell_type": "code",
   "execution_count": 13,
   "metadata": {},
   "outputs": [],
   "source": [
    "bhd.rename(columns= {'availability':'avail_now'}, inplace = True)"
   ]
  },
  {
   "cell_type": "code",
   "execution_count": 14,
   "metadata": {},
   "outputs": [
    {
     "data": {
      "image/png": "[encoded data removed]",
      "text/plain": [
       "<Figure size 720x216 with 1 Axes>"
      ]
     },
     "metadata": {
      "needs_background": "light"
     },
     "output_type": "display_data"
    }
   ],
   "source": [
    "plt.figure(figsize=(10,3))\n",
    "sns.countplot(x = bhd.avail_now, data = bhd)\n",
    "plt.show()"
   ]
  },
  {
   "cell_type": "code",
   "execution_count": 15,
   "metadata": {},
   "outputs": [
    {
     "data": {
      "text/plain": [
       "Whitefield                  540\n",
       "Sarjapur  Road              399\n",
       "Electronic City             302\n",
       "Kanakpura Road              273\n",
       "Thanisandra                 234\n",
       "                           ... \n",
       "kadubisnahalli                1\n",
       "4th Block HBR Layout          1\n",
       "Hennur Busstop                1\n",
       "Basnashankari,6th stage,      1\n",
       "DUO Layout                    1\n",
       "Name: location, Length: 1305, dtype: int64"
      ]
     },
     "execution_count": 15,
     "metadata": {},
     "output_type": "execute_result"
    }
   ],
   "source": [
    "bhd.location.value_counts()"
   ]
  },
  {
   "cell_type": "code",
   "execution_count": 16,
   "metadata": {},
   "outputs": [
    {
     "data": {
      "image/png": "[encoded data removed]",
      "text/plain": [
       "<Figure size 1008x432 with 1 Axes>"
      ]
     },
     "metadata": {
      "needs_background": "light"
     },
     "output_type": "display_data"
    }
   ],
   "source": [
    "bhd.location.value_counts()[:10].plot(kind='barh',figsize=(14,6))\n",
    "plt.show()"
   ]
  },
  {
   "cell_type": "code",
   "execution_count": 17,
   "metadata": {},
   "outputs": [
    {
     "data": {
      "text/plain": [
       "2 BHK         5199\n",
       "3 BHK         4310\n",
       "4 Bedroom      826\n",
       "4 BHK          591\n",
       "3 Bedroom      547\n",
       "1 BHK          538\n",
       "2 Bedroom      329\n",
       "5 Bedroom      297\n",
       "6 Bedroom      191\n",
       "1 Bedroom      105\n",
       "8 Bedroom       84\n",
       "7 Bedroom       83\n",
       "5 BHK           59\n",
       "9 Bedroom       46\n",
       "6 BHK           30\n",
       "7 BHK           17\n",
       "1 RK            13\n",
       "10 Bedroom      12\n",
       "9 BHK            8\n",
       "8 BHK            5\n",
       "11 BHK           2\n",
       "10 BHK           2\n",
       "11 Bedroom       2\n",
       "18 Bedroom       1\n",
       "16 BHK           1\n",
       "14 BHK           1\n",
       "13 BHK           1\n",
       "27 BHK           1\n",
       "19 BHK           1\n",
       "43 Bedroom       1\n",
       "12 Bedroom       1\n",
       "Name: size, dtype: int64"
      ]
     },
     "execution_count": 17,
     "metadata": {},
     "output_type": "execute_result"
    }
   ],
   "source": [
    "bhd['size'].value_counts()"
   ]
  },
  {
   "cell_type": "code",
   "execution_count": 18,
   "metadata": {},
   "outputs": [
    {
     "data": {
      "image/png": "[encoded data removed]",
      "text/plain": [
       "<Figure size 720x288 with 1 Axes>"
      ]
     },
     "metadata": {
      "needs_background": "light"
     },
     "output_type": "display_data"
    }
   ],
   "source": [
    "bhd['size'] = bhd['size'].apply(lambda a: str(a).split(' ')[0])\n",
    "bhd['size'] = bhd['size'].apply(lambda x:3 if(x =='nan') else x)\n",
    "bhd['size'] = bhd['size'].map(int)\n",
    "bhd['size'].value_counts().plot(kind= 'bar',figsize=(10,4))\n",
    "plt.show()"
   ]
  },
  {
   "cell_type": "code",
   "execution_count": 19,
   "metadata": {},
   "outputs": [
    {
     "data": {
      "text/plain": [
       "GrrvaGr    80\n",
       "PrarePa    76\n",
       "Sryalan    59\n",
       "Prtates    59\n",
       "GMown E    56\n",
       "           ..\n",
       "Elley B     1\n",
       "Asncy P     1\n",
       "Maine J     1\n",
       "Tovesee     1\n",
       "Siilka      1\n",
       "Name: society, Length: 2688, dtype: int64"
      ]
     },
     "execution_count": 19,
     "metadata": {},
     "output_type": "execute_result"
    }
   ],
   "source": [
    "bhd.rename(columns= {'size':'size_bhk'}, inplace = True)\n",
    "bhd['society'].value_counts()"
   ]
  },
  {
   "cell_type": "code",
   "execution_count": 20,
   "metadata": {},
   "outputs": [
    {
     "data": {
      "text/plain": [
       "5502"
      ]
     },
     "execution_count": 20,
     "metadata": {},
     "output_type": "execute_result"
    }
   ],
   "source": [
    "bhd['society'].isna().sum()"
   ]
  },
  {
   "cell_type": "code",
   "execution_count": 21,
   "metadata": {},
   "outputs": [
    {
     "data": {
      "text/plain": [
       "1200            843\n",
       "1100            221\n",
       "1500            205\n",
       "2400            196\n",
       "600             180\n",
       "               ... \n",
       "1119              1\n",
       "716Sq. Meter      1\n",
       "911               1\n",
       "2501              1\n",
       "1716              1\n",
       "Name: total_sqft, Length: 2117, dtype: int64"
      ]
     },
     "execution_count": 21,
     "metadata": {},
     "output_type": "execute_result"
    }
   ],
   "source": [
    "bhd.total_sqft.value_counts()"
   ]
  },
  {
   "cell_type": "code",
   "execution_count": 22,
   "metadata": {},
   "outputs": [],
   "source": [
    "def oton(k):\n",
    "    num = k.split('-')\n",
    "    q=0\n",
    "    for t in num:\n",
    "        try :\n",
    "            q+=float(t)\n",
    "            return q/len(num)\n",
    "        except ValueError as v:\n",
    "            return num"
   ]
  },
  {
   "cell_type": "code",
   "execution_count": 23,
   "metadata": {},
   "outputs": [],
   "source": [
    "bhd['total_sqft']=bhd['total_sqft'].apply(oton)"
   ]
  },
  {
   "cell_type": "code",
   "execution_count": 24,
   "metadata": {},
   "outputs": [],
   "source": [
    "# assigning sqft value to corresponding house sizes in bhk\n",
    "size = bhd['size_bhk'].value_counts().index\n",
    "size = [i for i in size]\n",
    "sqft = []\n",
    "for z in size:\n",
    "    \n",
    "    y=bhd[bhd['size_bhk']==z]['total_sqft']\n",
    "    sum = 0\n",
    "    count=0\n",
    "    for i in y:\n",
    "        if(type(i) == float):\n",
    "            sum+=i\n",
    "            count+=1\n",
    "        else :\n",
    "            continue\n",
    "    sqft.append(sum/count) "
   ]
  },
  {
   "cell_type": "code",
   "execution_count": 25,
   "metadata": {},
   "outputs": [],
   "source": [
    "def fitk(v):\n",
    "    c1 = v[0]\n",
    "    c2 = v[1]\n",
    "    if type(c2) != float:\n",
    "        return sqft[size.index(c1)]\n",
    "    else :\n",
    "        return c2"
   ]
  },
  {
   "cell_type": "code",
   "execution_count": 26,
   "metadata": {},
   "outputs": [],
   "source": [
    "bhd['total_sqft'] = bhd[['size_bhk','total_sqft']].apply(fitk,axis=1)"
   ]
  },
  {
   "cell_type": "code",
   "execution_count": 27,
   "metadata": {},
   "outputs": [
    {
     "data": {
      "image/png": "[encoded data removed]",
      "text/plain": [
       "<Figure size 1008x360 with 1 Axes>"
      ]
     },
     "metadata": {
      "needs_background": "light"
     },
     "output_type": "display_data"
    }
   ],
   "source": [
    "plt.figure(figsize=(14,5))\n",
    "sns.distplot(bhd['total_sqft'],kde = False)\n",
    "plt.show()"
   ]
  },
  {
   "cell_type": "code",
   "execution_count": 28,
   "metadata": {},
   "outputs": [],
   "source": [
    "bhd.drop(bhd[bhd['total_sqft'] < 300].index,inplace=True)"
   ]
  },
  {
   "cell_type": "code",
   "execution_count": 29,
   "metadata": {},
   "outputs": [
    {
     "data": {
      "text/plain": [
       "1232.2194374025964"
      ]
     },
     "execution_count": 29,
     "metadata": {},
     "output_type": "execute_result"
    }
   ],
   "source": [
    "bhd.total_sqft.std()"
   ]
  },
  {
   "cell_type": "code",
   "execution_count": 30,
   "metadata": {},
   "outputs": [
    {
     "data": {
      "text/plain": [
       "1546.8349570228913"
      ]
     },
     "execution_count": 30,
     "metadata": {},
     "output_type": "execute_result"
    }
   ],
   "source": [
    "bhd.total_sqft.mean()"
   ]
  },
  {
   "cell_type": "code",
   "execution_count": 31,
   "metadata": {},
   "outputs": [
    {
     "data": {
      "image/png": "[encoded data removed]",
      "text/plain": [
       "<Figure size 864x288 with 1 Axes>"
      ]
     },
     "metadata": {
      "needs_background": "light"
     },
     "output_type": "display_data"
    }
   ],
   "source": [
    "bhd.drop(bhd[bhd['total_sqft'] > 10000].index,inplace=True)\n",
    "plt.figure(figsize=(12,4))\n",
    "sns.countplot(x='bath',data=bhd)\n",
    "plt.show()"
   ]
  },
  {
   "cell_type": "code",
   "execution_count": 32,
   "metadata": {},
   "outputs": [
    {
     "data": {
      "text/plain": [
       "73"
      ]
     },
     "execution_count": 32,
     "metadata": {},
     "output_type": "execute_result"
    }
   ],
   "source": [
    "bhd.bath.isna().sum()"
   ]
  },
  {
   "cell_type": "code",
   "execution_count": 33,
   "metadata": {},
   "outputs": [
    {
     "data": {
      "text/plain": [
       "604"
      ]
     },
     "execution_count": 33,
     "metadata": {},
     "output_type": "execute_result"
    }
   ],
   "source": [
    "bhd.balcony.isna().sum()"
   ]
  },
  {
   "cell_type": "code",
   "execution_count": 34,
   "metadata": {},
   "outputs": [],
   "source": [
    "bhd.dropna(axis=0,how='any',inplace=True)"
   ]
  },
  {
   "cell_type": "code",
   "execution_count": 35,
   "metadata": {},
   "outputs": [
    {
     "data": {
      "image/png": "[encoded data removed]",
      "text/plain": [
       "<Figure size 432x288 with 1 Axes>"
      ]
     },
     "metadata": {
      "needs_background": "light"
     },
     "output_type": "display_data"
    }
   ],
   "source": [
    "# converting to int datatype \n",
    "bhd['bath']=bhd['bath'].map(int)\n",
    "bhd['balcony']=bhd['balcony'].map(int)\n",
    "sns.heatmap(data=bhd.isna(),yticklabels=False,cbar = False,cmap='cividis')\n",
    "plt.show()"
   ]
  },
  {
   "cell_type": "code",
   "execution_count": 36,
   "metadata": {},
   "outputs": [
    {
     "data": {
      "text/plain": [
       "426"
      ]
     },
     "execution_count": 36,
     "metadata": {},
     "output_type": "execute_result"
    }
   ],
   "source": [
    "bhd.duplicated().sum()"
   ]
  },
  {
   "cell_type": "code",
   "execution_count": 37,
   "metadata": {},
   "outputs": [],
   "source": [
    "bhd.drop_duplicates(inplace=True)"
   ]
  },
  {
   "cell_type": "code",
   "execution_count": 38,
   "metadata": {},
   "outputs": [
    {
     "name": "stdout",
     "output_type": "stream",
     "text": [
      "<class 'pandas.core.frame.DataFrame'>\n",
      "Int64Index: 7045 entries, 0 to 13318\n",
      "Data columns (total 9 columns):\n",
      "area_type      7045 non-null object\n",
      "avail_now      7045 non-null int64\n",
      "location       7045 non-null object\n",
      "size_bhk       7045 non-null int64\n",
      "society        7045 non-null object\n",
      "total_sqft     7045 non-null float64\n",
      "bath           7045 non-null int64\n",
      "balcony        7045 non-null int64\n",
      "price_lakhs    7045 non-null float64\n",
      "dtypes: float64(2), int64(4), object(3)\n",
      "memory usage: 550.4+ KB\n"
     ]
    }
   ],
   "source": [
    "bhd.info()"
   ]
  },
  {
   "cell_type": "code",
   "execution_count": 39,
   "metadata": {},
   "outputs": [
    {
     "data": {
      "text/html": [
       "<div>\n",
       "<style scoped>\n",
       "    .dataframe tbody tr th:only-of-type {\n",
       "        vertical-align: middle;\n",
       "    }\n",
       "\n",
       "    .dataframe tbody tr th {\n",
       "        vertical-align: top;\n",
       "    }\n",
       "\n",
       "    .dataframe thead th {\n",
       "        text-align: right;\n",
       "    }\n",
       "</style>\n",
       "<table border=\"1\" class=\"dataframe\">\n",
       "  <thead>\n",
       "    <tr style=\"text-align: right;\">\n",
       "      <th></th>\n",
       "      <th>area_type</th>\n",
       "      <th>avail_now</th>\n",
       "      <th>location</th>\n",
       "      <th>size_bhk</th>\n",
       "      <th>society</th>\n",
       "      <th>total_sqft</th>\n",
       "      <th>bath</th>\n",
       "      <th>balcony</th>\n",
       "      <th>price_lakhs</th>\n",
       "    </tr>\n",
       "  </thead>\n",
       "  <tbody>\n",
       "    <tr>\n",
       "      <td>0</td>\n",
       "      <td>Super built-up  Area</td>\n",
       "      <td>0</td>\n",
       "      <td>Electronic City Phase II</td>\n",
       "      <td>2</td>\n",
       "      <td>Coomee</td>\n",
       "      <td>1056.0</td>\n",
       "      <td>2</td>\n",
       "      <td>1</td>\n",
       "      <td>39.07</td>\n",
       "    </tr>\n",
       "    <tr>\n",
       "      <td>1</td>\n",
       "      <td>Plot  Area</td>\n",
       "      <td>1</td>\n",
       "      <td>Chikka Tirupathi</td>\n",
       "      <td>4</td>\n",
       "      <td>Theanmp</td>\n",
       "      <td>2600.0</td>\n",
       "      <td>5</td>\n",
       "      <td>3</td>\n",
       "      <td>120.00</td>\n",
       "    </tr>\n",
       "    <tr>\n",
       "      <td>3</td>\n",
       "      <td>Super built-up  Area</td>\n",
       "      <td>1</td>\n",
       "      <td>Lingadheeranahalli</td>\n",
       "      <td>3</td>\n",
       "      <td>Soiewre</td>\n",
       "      <td>1521.0</td>\n",
       "      <td>3</td>\n",
       "      <td>1</td>\n",
       "      <td>95.00</td>\n",
       "    </tr>\n",
       "    <tr>\n",
       "      <td>5</td>\n",
       "      <td>Super built-up  Area</td>\n",
       "      <td>1</td>\n",
       "      <td>Whitefield</td>\n",
       "      <td>2</td>\n",
       "      <td>DuenaTa</td>\n",
       "      <td>1170.0</td>\n",
       "      <td>2</td>\n",
       "      <td>1</td>\n",
       "      <td>38.00</td>\n",
       "    </tr>\n",
       "    <tr>\n",
       "      <td>11</td>\n",
       "      <td>Plot  Area</td>\n",
       "      <td>1</td>\n",
       "      <td>Whitefield</td>\n",
       "      <td>4</td>\n",
       "      <td>Prrry M</td>\n",
       "      <td>2785.0</td>\n",
       "      <td>5</td>\n",
       "      <td>3</td>\n",
       "      <td>295.00</td>\n",
       "    </tr>\n",
       "  </tbody>\n",
       "</table>\n",
       "</div>"
      ],
      "text/plain": [
       "               area_type  avail_now                  location  size_bhk  \\\n",
       "0   Super built-up  Area          0  Electronic City Phase II         2   \n",
       "1             Plot  Area          1          Chikka Tirupathi         4   \n",
       "3   Super built-up  Area          1        Lingadheeranahalli         3   \n",
       "5   Super built-up  Area          1                Whitefield         2   \n",
       "11            Plot  Area          1                Whitefield         4   \n",
       "\n",
       "    society  total_sqft  bath  balcony  price_lakhs  \n",
       "0   Coomee       1056.0     2        1        39.07  \n",
       "1   Theanmp      2600.0     5        3       120.00  \n",
       "3   Soiewre      1521.0     3        1        95.00  \n",
       "5   DuenaTa      1170.0     2        1        38.00  \n",
       "11  Prrry M      2785.0     5        3       295.00  "
      ]
     },
     "execution_count": 39,
     "metadata": {},
     "output_type": "execute_result"
    }
   ],
   "source": [
    "bhd.head()"
   ]
  },
  {
   "cell_type": "code",
   "execution_count": 40,
   "metadata": {},
   "outputs": [
    {
     "data": {
      "image/png": "[encoded data removed]",
      "text/plain": [
       "<Figure size 720x432 with 1 Axes>"
      ]
     },
     "metadata": {
      "needs_background": "light"
     },
     "output_type": "display_data"
    }
   ],
   "source": [
    "plt.figure(figsize=(10,6))\n",
    "sns.countplot(x='area_type',data=bhd)\n",
    "# plt.legend(loc =1)\n",
    "plt.show()"
   ]
  },
  {
   "cell_type": "code",
   "execution_count": 41,
   "metadata": {},
   "outputs": [
    {
     "data": {
      "image/png": "[encoded data removed]",
      "text/plain": [
       "<Figure size 720x432 with 1 Axes>"
      ]
     },
     "metadata": {
      "needs_background": "light"
     },
     "output_type": "display_data"
    }
   ],
   "source": [
    "plt.figure(figsize=(10,6))\n",
    "sns.countplot(x='area_type',data=bhd,hue='avail_now')\n",
    "# plt.legend(loc =1)\n",
    "plt.show()"
   ]
  },
  {
   "cell_type": "code",
   "execution_count": 42,
   "metadata": {},
   "outputs": [
    {
     "data": {
      "image/png": "[encoded data removed]",
      "text/plain": [
       "<Figure size 720x432 with 1 Axes>"
      ]
     },
     "metadata": {
      "needs_background": "light"
     },
     "output_type": "display_data"
    }
   ],
   "source": [
    "plt.figure(figsize=(10,6))\n",
    "sns.countplot(x='size_bhk',data=bhd)\n",
    "# plt.legend(loc =1)\n",
    "plt.show()"
   ]
  },
  {
   "cell_type": "code",
   "execution_count": 43,
   "metadata": {},
   "outputs": [
    {
     "data": {
      "image/png": "[encoded data removed]",
      "text/plain": [
       "<Figure size 720x432 with 1 Axes>"
      ]
     },
     "metadata": {
      "needs_background": "light"
     },
     "output_type": "display_data"
    }
   ],
   "source": [
    "plt.figure(figsize=(10,6))\n",
    "sns.distplot(bhd['total_sqft'],kde=False)\n",
    "plt.show()"
   ]
  },
  {
   "cell_type": "code",
   "execution_count": 44,
   "metadata": {},
   "outputs": [
    {
     "data": {
      "image/png": "[encoded data removed]",
      "text/plain": [
       "<Figure size 1152x360 with 1 Axes>"
      ]
     },
     "metadata": {
      "needs_background": "light"
     },
     "output_type": "display_data"
    }
   ],
   "source": [
    "y = bhd.price_lakhs.value_counts()\n",
    "plt.figure(figsize=(16,5))\n",
    "plt.hist(x=y.index,weights=y,bins=60)\n",
    "plt.show()"
   ]
  },
  {
   "cell_type": "code",
   "execution_count": 45,
   "metadata": {},
   "outputs": [
    {
     "data": {
      "image/png": "[encoded data removed]",
      "text/plain": [
       "<Figure size 432x288 with 2 Axes>"
      ]
     },
     "metadata": {
      "needs_background": "light"
     },
     "output_type": "display_data"
    }
   ],
   "source": [
    "sns.heatmap(bhd.corr())\n",
    "plt.show()"
   ]
  },
  {
   "cell_type": "code",
   "execution_count": 46,
   "metadata": {},
   "outputs": [
    {
     "data": {
      "text/plain": [
       "<seaborn.axisgrid.PairGrid at 0x23187b3cb08>"
      ]
     },
     "execution_count": 46,
     "metadata": {},
     "output_type": "execute_result"
    },
    {
     "data": {
      "image/png": "[encoded data removed]",
      "text/plain": [
       "<Figure size 1080x1080 with 42 Axes>"
      ]
     },
     "metadata": {
      "needs_background": "light"
     },
     "output_type": "display_data"
    }
   ],
   "source": [
    "sns.pairplot(data=bhd)"
   ]
  },
  {
   "cell_type": "code",
   "execution_count": 47,
   "metadata": {},
   "outputs": [],
   "source": [
    "bhd['ppsft'] = (bhd['price_lakhs']*100000)/bhd['total_sqft']"
   ]
  },
  {
   "cell_type": "code",
   "execution_count": 48,
   "metadata": {},
   "outputs": [
    {
     "data": {
      "text/html": [
       "<div>\n",
       "<style scoped>\n",
       "    .dataframe tbody tr th:only-of-type {\n",
       "        vertical-align: middle;\n",
       "    }\n",
       "\n",
       "    .dataframe tbody tr th {\n",
       "        vertical-align: top;\n",
       "    }\n",
       "\n",
       "    .dataframe thead th {\n",
       "        text-align: right;\n",
       "    }\n",
       "</style>\n",
       "<table border=\"1\" class=\"dataframe\">\n",
       "  <thead>\n",
       "    <tr style=\"text-align: right;\">\n",
       "      <th></th>\n",
       "      <th>avail_now</th>\n",
       "      <th>size_bhk</th>\n",
       "      <th>total_sqft</th>\n",
       "      <th>bath</th>\n",
       "      <th>balcony</th>\n",
       "      <th>price_lakhs</th>\n",
       "      <th>ppsft</th>\n",
       "    </tr>\n",
       "  </thead>\n",
       "  <tbody>\n",
       "    <tr>\n",
       "      <td>avail_now</td>\n",
       "      <td>1.000000</td>\n",
       "      <td>0.042935</td>\n",
       "      <td>0.047636</td>\n",
       "      <td>-0.001216</td>\n",
       "      <td>0.197986</td>\n",
       "      <td>0.007766</td>\n",
       "      <td>-0.057257</td>\n",
       "    </tr>\n",
       "    <tr>\n",
       "      <td>size_bhk</td>\n",
       "      <td>0.042935</td>\n",
       "      <td>1.000000</td>\n",
       "      <td>0.725816</td>\n",
       "      <td>0.821552</td>\n",
       "      <td>0.297522</td>\n",
       "      <td>0.532680</td>\n",
       "      <td>0.323811</td>\n",
       "    </tr>\n",
       "    <tr>\n",
       "      <td>total_sqft</td>\n",
       "      <td>0.047636</td>\n",
       "      <td>0.725816</td>\n",
       "      <td>1.000000</td>\n",
       "      <td>0.763918</td>\n",
       "      <td>0.298771</td>\n",
       "      <td>0.804697</td>\n",
       "      <td>0.398432</td>\n",
       "    </tr>\n",
       "    <tr>\n",
       "      <td>bath</td>\n",
       "      <td>-0.001216</td>\n",
       "      <td>0.821552</td>\n",
       "      <td>0.763918</td>\n",
       "      <td>1.000000</td>\n",
       "      <td>0.263214</td>\n",
       "      <td>0.600320</td>\n",
       "      <td>0.392786</td>\n",
       "    </tr>\n",
       "    <tr>\n",
       "      <td>balcony</td>\n",
       "      <td>0.197986</td>\n",
       "      <td>0.297522</td>\n",
       "      <td>0.298771</td>\n",
       "      <td>0.263214</td>\n",
       "      <td>1.000000</td>\n",
       "      <td>0.167516</td>\n",
       "      <td>0.018441</td>\n",
       "    </tr>\n",
       "    <tr>\n",
       "      <td>price_lakhs</td>\n",
       "      <td>0.007766</td>\n",
       "      <td>0.532680</td>\n",
       "      <td>0.804697</td>\n",
       "      <td>0.600320</td>\n",
       "      <td>0.167516</td>\n",
       "      <td>1.000000</td>\n",
       "      <td>0.768990</td>\n",
       "    </tr>\n",
       "    <tr>\n",
       "      <td>ppsft</td>\n",
       "      <td>-0.057257</td>\n",
       "      <td>0.323811</td>\n",
       "      <td>0.398432</td>\n",
       "      <td>0.392786</td>\n",
       "      <td>0.018441</td>\n",
       "      <td>0.768990</td>\n",
       "      <td>1.000000</td>\n",
       "    </tr>\n",
       "  </tbody>\n",
       "</table>\n",
       "</div>"
      ],
      "text/plain": [
       "             avail_now  size_bhk  total_sqft      bath   balcony  price_lakhs  \\\n",
       "avail_now     1.000000  0.042935    0.047636 -0.001216  0.197986     0.007766   \n",
       "size_bhk      0.042935  1.000000    0.725816  0.821552  0.297522     0.532680   \n",
       "total_sqft    0.047636  0.725816    1.000000  0.763918  0.298771     0.804697   \n",
       "bath         -0.001216  0.821552    0.763918  1.000000  0.263214     0.600320   \n",
       "balcony       0.197986  0.297522    0.298771  0.263214  1.000000     0.167516   \n",
       "price_lakhs   0.007766  0.532680    0.804697  0.600320  0.167516     1.000000   \n",
       "ppsft        -0.057257  0.323811    0.398432  0.392786  0.018441     0.768990   \n",
       "\n",
       "                ppsft  \n",
       "avail_now   -0.057257  \n",
       "size_bhk     0.323811  \n",
       "total_sqft   0.398432  \n",
       "bath         0.392786  \n",
       "balcony      0.018441  \n",
       "price_lakhs  0.768990  \n",
       "ppsft        1.000000  "
      ]
     },
     "execution_count": 48,
     "metadata": {},
     "output_type": "execute_result"
    }
   ],
   "source": [
    "bhd.corr()"
   ]
  },
  {
   "cell_type": "code",
   "execution_count": 49,
   "metadata": {},
   "outputs": [
    {
     "data": {
      "text/html": [
       "<div>\n",
       "<style scoped>\n",
       "    .dataframe tbody tr th:only-of-type {\n",
       "        vertical-align: middle;\n",
       "    }\n",
       "\n",
       "    .dataframe tbody tr th {\n",
       "        vertical-align: top;\n",
       "    }\n",
       "\n",
       "    .dataframe thead th {\n",
       "        text-align: right;\n",
       "    }\n",
       "</style>\n",
       "<table border=\"1\" class=\"dataframe\">\n",
       "  <thead>\n",
       "    <tr style=\"text-align: right;\">\n",
       "      <th></th>\n",
       "      <th>avail_now</th>\n",
       "      <th>size_bhk</th>\n",
       "      <th>total_sqft</th>\n",
       "      <th>bath</th>\n",
       "      <th>balcony</th>\n",
       "      <th>price_lakhs</th>\n",
       "      <th>ppsft</th>\n",
       "    </tr>\n",
       "  </thead>\n",
       "  <tbody>\n",
       "    <tr>\n",
       "      <td>count</td>\n",
       "      <td>7045.000000</td>\n",
       "      <td>7045.000000</td>\n",
       "      <td>7045.000000</td>\n",
       "      <td>7045.000000</td>\n",
       "      <td>7045.000000</td>\n",
       "      <td>7045.000000</td>\n",
       "      <td>7045.000000</td>\n",
       "    </tr>\n",
       "    <tr>\n",
       "      <td>mean</td>\n",
       "      <td>0.773456</td>\n",
       "      <td>2.535557</td>\n",
       "      <td>1487.345524</td>\n",
       "      <td>2.465436</td>\n",
       "      <td>1.632363</td>\n",
       "      <td>97.734823</td>\n",
       "      <td>6017.187449</td>\n",
       "    </tr>\n",
       "    <tr>\n",
       "      <td>std</td>\n",
       "      <td>0.418625</td>\n",
       "      <td>0.732581</td>\n",
       "      <td>716.043701</td>\n",
       "      <td>0.881931</td>\n",
       "      <td>0.784922</td>\n",
       "      <td>103.565702</td>\n",
       "      <td>2888.106426</td>\n",
       "    </tr>\n",
       "    <tr>\n",
       "      <td>min</td>\n",
       "      <td>0.000000</td>\n",
       "      <td>1.000000</td>\n",
       "      <td>302.500000</td>\n",
       "      <td>1.000000</td>\n",
       "      <td>0.000000</td>\n",
       "      <td>10.000000</td>\n",
       "      <td>500.000000</td>\n",
       "    </tr>\n",
       "    <tr>\n",
       "      <td>25%</td>\n",
       "      <td>1.000000</td>\n",
       "      <td>2.000000</td>\n",
       "      <td>1110.000000</td>\n",
       "      <td>2.000000</td>\n",
       "      <td>1.000000</td>\n",
       "      <td>50.000000</td>\n",
       "      <td>4343.105320</td>\n",
       "    </tr>\n",
       "    <tr>\n",
       "      <td>50%</td>\n",
       "      <td>1.000000</td>\n",
       "      <td>2.000000</td>\n",
       "      <td>1310.000000</td>\n",
       "      <td>2.000000</td>\n",
       "      <td>2.000000</td>\n",
       "      <td>70.000000</td>\n",
       "      <td>5418.994413</td>\n",
       "    </tr>\n",
       "    <tr>\n",
       "      <td>75%</td>\n",
       "      <td>1.000000</td>\n",
       "      <td>3.000000</td>\n",
       "      <td>1660.000000</td>\n",
       "      <td>3.000000</td>\n",
       "      <td>2.000000</td>\n",
       "      <td>107.000000</td>\n",
       "      <td>6837.606838</td>\n",
       "    </tr>\n",
       "    <tr>\n",
       "      <td>max</td>\n",
       "      <td>1.000000</td>\n",
       "      <td>11.000000</td>\n",
       "      <td>10000.000000</td>\n",
       "      <td>9.000000</td>\n",
       "      <td>3.000000</td>\n",
       "      <td>2700.000000</td>\n",
       "      <td>76530.612245</td>\n",
       "    </tr>\n",
       "  </tbody>\n",
       "</table>\n",
       "</div>"
      ],
      "text/plain": [
       "         avail_now     size_bhk    total_sqft         bath      balcony  \\\n",
       "count  7045.000000  7045.000000   7045.000000  7045.000000  7045.000000   \n",
       "mean      0.773456     2.535557   1487.345524     2.465436     1.632363   \n",
       "std       0.418625     0.732581    716.043701     0.881931     0.784922   \n",
       "min       0.000000     1.000000    302.500000     1.000000     0.000000   \n",
       "25%       1.000000     2.000000   1110.000000     2.000000     1.000000   \n",
       "50%       1.000000     2.000000   1310.000000     2.000000     2.000000   \n",
       "75%       1.000000     3.000000   1660.000000     3.000000     2.000000   \n",
       "max       1.000000    11.000000  10000.000000     9.000000     3.000000   \n",
       "\n",
       "       price_lakhs         ppsft  \n",
       "count  7045.000000   7045.000000  \n",
       "mean     97.734823   6017.187449  \n",
       "std     103.565702   2888.106426  \n",
       "min      10.000000    500.000000  \n",
       "25%      50.000000   4343.105320  \n",
       "50%      70.000000   5418.994413  \n",
       "75%     107.000000   6837.606838  \n",
       "max    2700.000000  76530.612245  "
      ]
     },
     "execution_count": 49,
     "metadata": {},
     "output_type": "execute_result"
    }
   ],
   "source": [
    "bhd.describe()"
   ]
  },
  {
   "cell_type": "code",
   "execution_count": 50,
   "metadata": {},
   "outputs": [
    {
     "data": {
      "text/plain": [
       "<matplotlib.axes._subplots.AxesSubplot at 0x23189788588>"
      ]
     },
     "execution_count": 50,
     "metadata": {},
     "output_type": "execute_result"
    },
    {
     "data": {
      "image/png": "[encoded data removed]",
      "text/plain": [
       "<Figure size 432x288 with 1 Axes>"
      ]
     },
     "metadata": {
      "needs_background": "light"
     },
     "output_type": "display_data"
    }
   ],
   "source": [
    "bhd.drop(bhd[bhd['bath'] > 10].index,inplace=True)\n",
    "sns.boxplot(data=bhd)"
   ]
  },
  {
   "cell_type": "code",
   "execution_count": 51,
   "metadata": {},
   "outputs": [],
   "source": [
    "bhdn = pd.get_dummies(bhd,drop_first=True)"
   ]
  },
  {
   "cell_type": "code",
   "execution_count": 52,
   "metadata": {},
   "outputs": [
    {
     "data": {
      "text/html": [
       "<div>\n",
       "<style scoped>\n",
       "    .dataframe tbody tr th:only-of-type {\n",
       "        vertical-align: middle;\n",
       "    }\n",
       "\n",
       "    .dataframe tbody tr th {\n",
       "        vertical-align: top;\n",
       "    }\n",
       "\n",
       "    .dataframe thead th {\n",
       "        text-align: right;\n",
       "    }\n",
       "</style>\n",
       "<table border=\"1\" class=\"dataframe\">\n",
       "  <thead>\n",
       "    <tr style=\"text-align: right;\">\n",
       "      <th></th>\n",
       "      <th>avail_now</th>\n",
       "      <th>size_bhk</th>\n",
       "      <th>total_sqft</th>\n",
       "      <th>bath</th>\n",
       "      <th>balcony</th>\n",
       "      <th>price_lakhs</th>\n",
       "      <th>ppsft</th>\n",
       "      <th>area_type_Carpet  Area</th>\n",
       "      <th>area_type_Plot  Area</th>\n",
       "      <th>area_type_Super built-up  Area</th>\n",
       "      <th>...</th>\n",
       "      <th>society_Xeitaa</th>\n",
       "      <th>society_YCnce R</th>\n",
       "      <th>society_YMhenLi</th>\n",
       "      <th>society_Yaenti</th>\n",
       "      <th>society_ZeodsWo</th>\n",
       "      <th>society_Zonce E</th>\n",
       "      <th>society_Zostaa</th>\n",
       "      <th>society_i1ncyRe</th>\n",
       "      <th>society_i1odsne</th>\n",
       "      <th>society_i1rtsCo</th>\n",
       "    </tr>\n",
       "  </thead>\n",
       "  <tbody>\n",
       "    <tr>\n",
       "      <td>0</td>\n",
       "      <td>0</td>\n",
       "      <td>2</td>\n",
       "      <td>1056.0</td>\n",
       "      <td>2</td>\n",
       "      <td>1</td>\n",
       "      <td>39.07</td>\n",
       "      <td>3699.810606</td>\n",
       "      <td>0</td>\n",
       "      <td>0</td>\n",
       "      <td>1</td>\n",
       "      <td>...</td>\n",
       "      <td>0</td>\n",
       "      <td>0</td>\n",
       "      <td>0</td>\n",
       "      <td>0</td>\n",
       "      <td>0</td>\n",
       "      <td>0</td>\n",
       "      <td>0</td>\n",
       "      <td>0</td>\n",
       "      <td>0</td>\n",
       "      <td>0</td>\n",
       "    </tr>\n",
       "    <tr>\n",
       "      <td>1</td>\n",
       "      <td>1</td>\n",
       "      <td>4</td>\n",
       "      <td>2600.0</td>\n",
       "      <td>5</td>\n",
       "      <td>3</td>\n",
       "      <td>120.00</td>\n",
       "      <td>4615.384615</td>\n",
       "      <td>0</td>\n",
       "      <td>1</td>\n",
       "      <td>0</td>\n",
       "      <td>...</td>\n",
       "      <td>0</td>\n",
       "      <td>0</td>\n",
       "      <td>0</td>\n",
       "      <td>0</td>\n",
       "      <td>0</td>\n",
       "      <td>0</td>\n",
       "      <td>0</td>\n",
       "      <td>0</td>\n",
       "      <td>0</td>\n",
       "      <td>0</td>\n",
       "    </tr>\n",
       "    <tr>\n",
       "      <td>3</td>\n",
       "      <td>1</td>\n",
       "      <td>3</td>\n",
       "      <td>1521.0</td>\n",
       "      <td>3</td>\n",
       "      <td>1</td>\n",
       "      <td>95.00</td>\n",
       "      <td>6245.890861</td>\n",
       "      <td>0</td>\n",
       "      <td>0</td>\n",
       "      <td>1</td>\n",
       "      <td>...</td>\n",
       "      <td>0</td>\n",
       "      <td>0</td>\n",
       "      <td>0</td>\n",
       "      <td>0</td>\n",
       "      <td>0</td>\n",
       "      <td>0</td>\n",
       "      <td>0</td>\n",
       "      <td>0</td>\n",
       "      <td>0</td>\n",
       "      <td>0</td>\n",
       "    </tr>\n",
       "    <tr>\n",
       "      <td>5</td>\n",
       "      <td>1</td>\n",
       "      <td>2</td>\n",
       "      <td>1170.0</td>\n",
       "      <td>2</td>\n",
       "      <td>1</td>\n",
       "      <td>38.00</td>\n",
       "      <td>3247.863248</td>\n",
       "      <td>0</td>\n",
       "      <td>0</td>\n",
       "      <td>1</td>\n",
       "      <td>...</td>\n",
       "      <td>0</td>\n",
       "      <td>0</td>\n",
       "      <td>0</td>\n",
       "      <td>0</td>\n",
       "      <td>0</td>\n",
       "      <td>0</td>\n",
       "      <td>0</td>\n",
       "      <td>0</td>\n",
       "      <td>0</td>\n",
       "      <td>0</td>\n",
       "    </tr>\n",
       "    <tr>\n",
       "      <td>11</td>\n",
       "      <td>1</td>\n",
       "      <td>4</td>\n",
       "      <td>2785.0</td>\n",
       "      <td>5</td>\n",
       "      <td>3</td>\n",
       "      <td>295.00</td>\n",
       "      <td>10592.459605</td>\n",
       "      <td>0</td>\n",
       "      <td>1</td>\n",
       "      <td>0</td>\n",
       "      <td>...</td>\n",
       "      <td>0</td>\n",
       "      <td>0</td>\n",
       "      <td>0</td>\n",
       "      <td>0</td>\n",
       "      <td>0</td>\n",
       "      <td>0</td>\n",
       "      <td>0</td>\n",
       "      <td>0</td>\n",
       "      <td>0</td>\n",
       "      <td>0</td>\n",
       "    </tr>\n",
       "  </tbody>\n",
       "</table>\n",
       "<p>5 rows × 3231 columns</p>\n",
       "</div>"
      ],
      "text/plain": [
       "    avail_now  size_bhk  total_sqft  bath  balcony  price_lakhs         ppsft  \\\n",
       "0           0         2      1056.0     2        1        39.07   3699.810606   \n",
       "1           1         4      2600.0     5        3       120.00   4615.384615   \n",
       "3           1         3      1521.0     3        1        95.00   6245.890861   \n",
       "5           1         2      1170.0     2        1        38.00   3247.863248   \n",
       "11          1         4      2785.0     5        3       295.00  10592.459605   \n",
       "\n",
       "    area_type_Carpet  Area  area_type_Plot  Area  \\\n",
       "0                        0                     0   \n",
       "1                        0                     1   \n",
       "3                        0                     0   \n",
       "5                        0                     0   \n",
       "11                       0                     1   \n",
       "\n",
       "    area_type_Super built-up  Area  ...  society_Xeitaa   society_YCnce R  \\\n",
       "0                                1  ...                0                0   \n",
       "1                                0  ...                0                0   \n",
       "3                                1  ...                0                0   \n",
       "5                                1  ...                0                0   \n",
       "11                               0  ...                0                0   \n",
       "\n",
       "    society_YMhenLi  society_Yaenti   society_ZeodsWo  society_Zonce E  \\\n",
       "0                 0                0                0                0   \n",
       "1                 0                0                0                0   \n",
       "3                 0                0                0                0   \n",
       "5                 0                0                0                0   \n",
       "11                0                0                0                0   \n",
       "\n",
       "    society_Zostaa   society_i1ncyRe  society_i1odsne  society_i1rtsCo  \n",
       "0                 0                0                0                0  \n",
       "1                 0                0                0                0  \n",
       "3                 0                0                0                0  \n",
       "5                 0                0                0                0  \n",
       "11                0                0                0                0  \n",
       "\n",
       "[5 rows x 3231 columns]"
      ]
     },
     "execution_count": 52,
     "metadata": {},
     "output_type": "execute_result"
    }
   ],
   "source": [
    "y = bhdn[['price_lakhs']]\n",
    "X = bhdn.drop(['price_lakhs'],axis=1)\n",
    "bhdn.head()"
   ]
  },
  {
   "cell_type": "code",
   "execution_count": 53,
   "metadata": {},
   "outputs": [
    {
     "data": {
      "text/html": [
       "<div>\n",
       "<style scoped>\n",
       "    .dataframe tbody tr th:only-of-type {\n",
       "        vertical-align: middle;\n",
       "    }\n",
       "\n",
       "    .dataframe tbody tr th {\n",
       "        vertical-align: top;\n",
       "    }\n",
       "\n",
       "    .dataframe thead th {\n",
       "        text-align: right;\n",
       "    }\n",
       "</style>\n",
       "<table border=\"1\" class=\"dataframe\">\n",
       "  <thead>\n",
       "    <tr style=\"text-align: right;\">\n",
       "      <th></th>\n",
       "      <th>avail_now</th>\n",
       "      <th>size_bhk</th>\n",
       "      <th>total_sqft</th>\n",
       "      <th>bath</th>\n",
       "      <th>balcony</th>\n",
       "      <th>ppsft</th>\n",
       "      <th>area_type_Carpet  Area</th>\n",
       "      <th>area_type_Plot  Area</th>\n",
       "      <th>area_type_Super built-up  Area</th>\n",
       "      <th>location_ Devarabeesana Halli</th>\n",
       "      <th>...</th>\n",
       "      <th>society_Xeitaa</th>\n",
       "      <th>society_YCnce R</th>\n",
       "      <th>society_YMhenLi</th>\n",
       "      <th>society_Yaenti</th>\n",
       "      <th>society_ZeodsWo</th>\n",
       "      <th>society_Zonce E</th>\n",
       "      <th>society_Zostaa</th>\n",
       "      <th>society_i1ncyRe</th>\n",
       "      <th>society_i1odsne</th>\n",
       "      <th>society_i1rtsCo</th>\n",
       "    </tr>\n",
       "  </thead>\n",
       "  <tbody>\n",
       "    <tr>\n",
       "      <td>0</td>\n",
       "      <td>0</td>\n",
       "      <td>2</td>\n",
       "      <td>1056.0</td>\n",
       "      <td>2</td>\n",
       "      <td>1</td>\n",
       "      <td>3699.810606</td>\n",
       "      <td>0</td>\n",
       "      <td>0</td>\n",
       "      <td>1</td>\n",
       "      <td>0</td>\n",
       "      <td>...</td>\n",
       "      <td>0</td>\n",
       "      <td>0</td>\n",
       "      <td>0</td>\n",
       "      <td>0</td>\n",
       "      <td>0</td>\n",
       "      <td>0</td>\n",
       "      <td>0</td>\n",
       "      <td>0</td>\n",
       "      <td>0</td>\n",
       "      <td>0</td>\n",
       "    </tr>\n",
       "    <tr>\n",
       "      <td>1</td>\n",
       "      <td>1</td>\n",
       "      <td>4</td>\n",
       "      <td>2600.0</td>\n",
       "      <td>5</td>\n",
       "      <td>3</td>\n",
       "      <td>4615.384615</td>\n",
       "      <td>0</td>\n",
       "      <td>1</td>\n",
       "      <td>0</td>\n",
       "      <td>0</td>\n",
       "      <td>...</td>\n",
       "      <td>0</td>\n",
       "      <td>0</td>\n",
       "      <td>0</td>\n",
       "      <td>0</td>\n",
       "      <td>0</td>\n",
       "      <td>0</td>\n",
       "      <td>0</td>\n",
       "      <td>0</td>\n",
       "      <td>0</td>\n",
       "      <td>0</td>\n",
       "    </tr>\n",
       "    <tr>\n",
       "      <td>3</td>\n",
       "      <td>1</td>\n",
       "      <td>3</td>\n",
       "      <td>1521.0</td>\n",
       "      <td>3</td>\n",
       "      <td>1</td>\n",
       "      <td>6245.890861</td>\n",
       "      <td>0</td>\n",
       "      <td>0</td>\n",
       "      <td>1</td>\n",
       "      <td>0</td>\n",
       "      <td>...</td>\n",
       "      <td>0</td>\n",
       "      <td>0</td>\n",
       "      <td>0</td>\n",
       "      <td>0</td>\n",
       "      <td>0</td>\n",
       "      <td>0</td>\n",
       "      <td>0</td>\n",
       "      <td>0</td>\n",
       "      <td>0</td>\n",
       "      <td>0</td>\n",
       "    </tr>\n",
       "    <tr>\n",
       "      <td>5</td>\n",
       "      <td>1</td>\n",
       "      <td>2</td>\n",
       "      <td>1170.0</td>\n",
       "      <td>2</td>\n",
       "      <td>1</td>\n",
       "      <td>3247.863248</td>\n",
       "      <td>0</td>\n",
       "      <td>0</td>\n",
       "      <td>1</td>\n",
       "      <td>0</td>\n",
       "      <td>...</td>\n",
       "      <td>0</td>\n",
       "      <td>0</td>\n",
       "      <td>0</td>\n",
       "      <td>0</td>\n",
       "      <td>0</td>\n",
       "      <td>0</td>\n",
       "      <td>0</td>\n",
       "      <td>0</td>\n",
       "      <td>0</td>\n",
       "      <td>0</td>\n",
       "    </tr>\n",
       "    <tr>\n",
       "      <td>11</td>\n",
       "      <td>1</td>\n",
       "      <td>4</td>\n",
       "      <td>2785.0</td>\n",
       "      <td>5</td>\n",
       "      <td>3</td>\n",
       "      <td>10592.459605</td>\n",
       "      <td>0</td>\n",
       "      <td>1</td>\n",
       "      <td>0</td>\n",
       "      <td>0</td>\n",
       "      <td>...</td>\n",
       "      <td>0</td>\n",
       "      <td>0</td>\n",
       "      <td>0</td>\n",
       "      <td>0</td>\n",
       "      <td>0</td>\n",
       "      <td>0</td>\n",
       "      <td>0</td>\n",
       "      <td>0</td>\n",
       "      <td>0</td>\n",
       "      <td>0</td>\n",
       "    </tr>\n",
       "  </tbody>\n",
       "</table>\n",
       "<p>5 rows × 3230 columns</p>\n",
       "</div>"
      ],
      "text/plain": [
       "    avail_now  size_bhk  total_sqft  bath  balcony         ppsft  \\\n",
       "0           0         2      1056.0     2        1   3699.810606   \n",
       "1           1         4      2600.0     5        3   4615.384615   \n",
       "3           1         3      1521.0     3        1   6245.890861   \n",
       "5           1         2      1170.0     2        1   3247.863248   \n",
       "11          1         4      2785.0     5        3  10592.459605   \n",
       "\n",
       "    area_type_Carpet  Area  area_type_Plot  Area  \\\n",
       "0                        0                     0   \n",
       "1                        0                     1   \n",
       "3                        0                     0   \n",
       "5                        0                     0   \n",
       "11                       0                     1   \n",
       "\n",
       "    area_type_Super built-up  Area  location_ Devarabeesana Halli  ...  \\\n",
       "0                                1                              0  ...   \n",
       "1                                0                              0  ...   \n",
       "3                                1                              0  ...   \n",
       "5                                1                              0  ...   \n",
       "11                               0                              0  ...   \n",
       "\n",
       "    society_Xeitaa   society_YCnce R  society_YMhenLi  society_Yaenti   \\\n",
       "0                 0                0                0                0   \n",
       "1                 0                0                0                0   \n",
       "3                 0                0                0                0   \n",
       "5                 0                0                0                0   \n",
       "11                0                0                0                0   \n",
       "\n",
       "    society_ZeodsWo  society_Zonce E  society_Zostaa   society_i1ncyRe  \\\n",
       "0                 0                0                0                0   \n",
       "1                 0                0                0                0   \n",
       "3                 0                0                0                0   \n",
       "5                 0                0                0                0   \n",
       "11                0                0                0                0   \n",
       "\n",
       "    society_i1odsne  society_i1rtsCo  \n",
       "0                 0                0  \n",
       "1                 0                0  \n",
       "3                 0                0  \n",
       "5                 0                0  \n",
       "11                0                0  \n",
       "\n",
       "[5 rows x 3230 columns]"
      ]
     },
     "execution_count": 53,
     "metadata": {},
     "output_type": "execute_result"
    }
   ],
   "source": [
    "X.head()"
   ]
  },
  {
   "cell_type": "code",
   "execution_count": 54,
   "metadata": {},
   "outputs": [
    {
     "data": {
      "text/html": [
       "<div>\n",
       "<style scoped>\n",
       "    .dataframe tbody tr th:only-of-type {\n",
       "        vertical-align: middle;\n",
       "    }\n",
       "\n",
       "    .dataframe tbody tr th {\n",
       "        vertical-align: top;\n",
       "    }\n",
       "\n",
       "    .dataframe thead th {\n",
       "        text-align: right;\n",
       "    }\n",
       "</style>\n",
       "<table border=\"1\" class=\"dataframe\">\n",
       "  <thead>\n",
       "    <tr style=\"text-align: right;\">\n",
       "      <th></th>\n",
       "      <th>price_lakhs</th>\n",
       "    </tr>\n",
       "  </thead>\n",
       "  <tbody>\n",
       "    <tr>\n",
       "      <td>0</td>\n",
       "      <td>39.07</td>\n",
       "    </tr>\n",
       "    <tr>\n",
       "      <td>1</td>\n",
       "      <td>120.00</td>\n",
       "    </tr>\n",
       "    <tr>\n",
       "      <td>3</td>\n",
       "      <td>95.00</td>\n",
       "    </tr>\n",
       "    <tr>\n",
       "      <td>5</td>\n",
       "      <td>38.00</td>\n",
       "    </tr>\n",
       "    <tr>\n",
       "      <td>11</td>\n",
       "      <td>295.00</td>\n",
       "    </tr>\n",
       "  </tbody>\n",
       "</table>\n",
       "</div>"
      ],
      "text/plain": [
       "    price_lakhs\n",
       "0         39.07\n",
       "1        120.00\n",
       "3         95.00\n",
       "5         38.00\n",
       "11       295.00"
      ]
     },
     "execution_count": 54,
     "metadata": {},
     "output_type": "execute_result"
    }
   ],
   "source": [
    "y.head()"
   ]
  },
  {
   "cell_type": "code",
   "execution_count": 67,
   "metadata": {},
   "outputs": [],
   "source": [
    "from sklearn.model_selection import ShuffleSplit\n",
    "from sklearn.model_selection import cross_val_score"
   ]
  },
  {
   "cell_type": "code",
   "execution_count": 68,
   "metadata": {},
   "outputs": [],
   "source": [
    "from sklearn.model_selection import train_test_split\n",
    "from sklearn.linear_model import LinearRegression"
   ]
  },
  {
   "cell_type": "code",
   "execution_count": 69,
   "metadata": {},
   "outputs": [],
   "source": [
    "Lr = LinearRegression()"
   ]
  },
  {
   "cell_type": "code",
   "execution_count": 70,
   "metadata": {},
   "outputs": [],
   "source": [
    "X_train, X_test, y_train, y_test = train_test_split(X,y,test_size=0.3, random_state=15)"
   ]
  },
  {
   "cell_type": "code",
   "execution_count": 71,
   "metadata": {},
   "outputs": [
    {
     "data": {
      "text/plain": [
       "LinearRegression(copy_X=True, fit_intercept=True, n_jobs=None, normalize=False)"
      ]
     },
     "execution_count": 71,
     "metadata": {},
     "output_type": "execute_result"
    }
   ],
   "source": [
    "Lr.fit(X_train,y_train)"
   ]
  },
  {
   "cell_type": "code",
   "execution_count": 72,
   "metadata": {},
   "outputs": [
    {
     "data": {
      "text/plain": [
       "0.9828498717955536"
      ]
     },
     "execution_count": 72,
     "metadata": {},
     "output_type": "execute_result"
    }
   ],
   "source": [
    "Lr.score(X_train,y_train)"
   ]
  },
  {
   "cell_type": "code",
   "execution_count": 73,
   "metadata": {},
   "outputs": [
    {
     "data": {
      "text/plain": [
       "-883035353357744.0"
      ]
     },
     "execution_count": 73,
     "metadata": {},
     "output_type": "execute_result"
    }
   ],
   "source": [
    "Lr.score(X_test,y_test)"
   ]
  },
  {
   "cell_type": "code",
   "execution_count": 74,
   "metadata": {},
   "outputs": [],
   "source": [
    "y_hat = Lr.predict(X_test)"
   ]
  },
  {
   "cell_type": "code",
   "execution_count": 75,
   "metadata": {},
   "outputs": [
    {
     "data": {
      "text/plain": [
       "-883035353357744.0"
      ]
     },
     "execution_count": 75,
     "metadata": {},
     "output_type": "execute_result"
    }
   ],
   "source": [
    "from sklearn.metrics import r2_score\n",
    "r2_score(y_test,y_hat)"
   ]
  },
  {
   "cell_type": "code",
   "execution_count": 76,
   "metadata": {},
   "outputs": [],
   "source": [
    "cv = ShuffleSplit(n_splits=6, test_size=0.2, random_state=10)\n",
    "ar = cross_val_score(LinearRegression(), X, y, cv=cv)"
   ]
  },
  {
   "cell_type": "code",
   "execution_count": 77,
   "metadata": {},
   "outputs": [
    {
     "data": {
      "text/plain": [
       "array([ 9.38722649e-01,  9.24143797e-01, -2.03023796e+13, -1.68234286e+10,\n",
       "        9.31047678e-01,  9.31648223e-01])"
      ]
     },
     "execution_count": 77,
     "metadata": {},
     "output_type": "execute_result"
    }
   ],
   "source": [
    "ar"
   ]
  },
  {
   "cell_type": "code",
   "execution_count": 78,
   "metadata": {},
   "outputs": [
    {
     "name": "stdout",
     "output_type": "stream",
     "text": [
      "This model can explain nearly -338653383835535.56% of the results.\n"
     ]
    }
   ],
   "source": [
    "print(f\"This model can explain nearly {round(ar.mean()*100,2)}% of the results.\")"
   ]
  },
  {
   "cell_type": "code",
   "execution_count": null,
   "metadata": {},
   "outputs": [],
   "source": [
    " "
   ]
  }
 ],
 "metadata": {
  "kernelspec": {
   "display_name": "Python 3",
   "language": "python",
   "name": "python3"
  },
  "language_info": {
   "codemirror_mode": {
    "name": "ipython",
    "version": 3
   },
   "file_extension": ".py",
   "mimetype": "text/x-python",
   "name": "python",
   "nbconvert_exporter": "python",
   "pygments_lexer": "ipython3",
   "version": "3.7.4"
  }
 },
 "nbformat": 4,
 "nbformat_minor": 2
}
